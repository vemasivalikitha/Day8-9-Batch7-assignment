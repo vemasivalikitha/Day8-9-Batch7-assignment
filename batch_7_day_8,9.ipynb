{
  "nbformat": 4,
  "nbformat_minor": 0,
  "metadata": {
    "colab": {
      "name": "batch-7 day-8,9.ipynb",
      "provenance": [],
      "authorship_tag": "ABX9TyOGi0wZWftpW7buA3wsU8T/",
      "include_colab_link": true
    },
    "kernelspec": {
      "name": "python3",
      "display_name": "Python 3"
    }
  },
  "cells": [
    {
      "cell_type": "markdown",
      "metadata": {
        "id": "view-in-github",
        "colab_type": "text"
      },
      "source": [
        "<a href=\"https://colab.research.google.com/github/vemasivalikitha/Day8-9-Batch7-assignment/blob/master/batch_7_day_8%2C9.ipynb\" target=\"_parent\"><img src=\"https://colab.research.google.com/assets/colab-badge.svg\" alt=\"Open In Colab\"/></a>"
      ]
    },
    {
      "cell_type": "code",
      "metadata": {
        "id": "51rOrVDQ8XCU",
        "colab_type": "code",
        "colab": {
          "base_uri": "https://localhost:8080/",
          "height": 68
        },
        "outputId": "d5803651-e3c6-418a-cfe3-d6281eeb3638"
      },
      "source": [
        "def fibannico_call(input_function):\n",
        "  def series():\n",
        "    print(\"Fibannico Series\")\n",
        "    a=int(input(\"Enter upper bound-\"))\n",
        "    input_function(a)\n",
        "  return series\n",
        "@fibannico_call\n",
        "def finalresult(a):\n",
        "  k=0\n",
        "  p=1\n",
        "  if a>2:\n",
        "    for i in range(2,a):\n",
        "      t=k+p\n",
        "      k=p\n",
        "      p=t\n",
        "    print(\"sum is:\",t)\n",
        "finalresult()"
      ],
      "execution_count": 8,
      "outputs": [
        {
          "output_type": "stream",
          "text": [
            "Fibannico Series\n",
            "Enter upper bound-7\n",
            "sum is: 8\n"
          ],
          "name": "stdout"
        }
      ]
    },
    {
      "cell_type": "code",
      "metadata": {
        "id": "aBoaqEeZ9Q_9",
        "colab_type": "code",
        "colab": {
          "base_uri": "https://localhost:8080/",
          "height": 51
        },
        "outputId": "f38c8df5-0b5f-42be-9205-913bd34b800b"
      },
      "source": [
        "try:\n",
        "  file=open(\"python.txt\",'r')\n",
        "  file.write(\"Hi\")\n",
        "  file.close()\n",
        "except Exception as e:\n",
        "  print(\"Check the mode as it is not writable\")\n",
        "finally:\n",
        "  print(\"I will return any value irrespective of program\")"
      ],
      "execution_count": 9,
      "outputs": [
        {
          "output_type": "stream",
          "text": [
            "Check the mode as it is not writable\n",
            "I will return any value irrespective of program\n"
          ],
          "name": "stdout"
        }
      ]
    },
    {
      "cell_type": "code",
      "metadata": {
        "id": "NXj_UxZN9sxO",
        "colab_type": "code",
        "colab": {
          "base_uri": "https://localhost:8080/",
          "height": 34
        },
        "outputId": "ac98f8ad-5c12-4307-9cda-2062b0a83f81"
      },
      "source": [
        "def armstrongNumber(lst):\n",
        "     for item in lst:\n",
        "       ord=len(str(item))\n",
        "       sum=0\n",
        "       temp=item\n",
        "       while temp>0:\n",
        "         digit=temp%10\n",
        "         sum +=digit**ord\n",
        "         temp //=10\n",
        "       if sum==item:\n",
        "         yield item\n",
        "lst=list(range(1,1000))\n",
        "print(list(armstrongNumber(lst)))"
      ],
      "execution_count": 13,
      "outputs": [
        {
          "output_type": "stream",
          "text": [
            "[1, 2, 3, 4, 5, 6, 7, 8, 9, 153, 370, 371, 407]\n"
          ],
          "name": "stdout"
        }
      ]
    },
    {
      "cell_type": "code",
      "metadata": {
        "id": "eqNYQT9yDShw",
        "colab_type": "code",
        "colab": {
          "base_uri": "https://localhost:8080/",
          "height": 190
        },
        "outputId": "fb464b28-e8b4-4da3-8963-19cbcbe67f44"
      },
      "source": [
        "! pip install pylint"
      ],
      "execution_count": 20,
      "outputs": [
        {
          "output_type": "stream",
          "text": [
            "Requirement already satisfied: pylint in /usr/local/lib/python3.6/dist-packages (2.6.0)\n",
            "Requirement already satisfied: astroid<=2.5,>=2.4.0 in /usr/local/lib/python3.6/dist-packages (from pylint) (2.4.2)\n",
            "Requirement already satisfied: isort<6,>=4.2.5 in /usr/local/lib/python3.6/dist-packages (from pylint) (5.5.2)\n",
            "Requirement already satisfied: toml>=0.7.1 in /usr/local/lib/python3.6/dist-packages (from pylint) (0.10.1)\n",
            "Requirement already satisfied: mccabe<0.7,>=0.6 in /usr/local/lib/python3.6/dist-packages (from pylint) (0.6.1)\n",
            "Requirement already satisfied: wrapt~=1.11 in /usr/local/lib/python3.6/dist-packages (from astroid<=2.5,>=2.4.0->pylint) (1.12.1)\n",
            "Requirement already satisfied: lazy-object-proxy==1.4.* in /usr/local/lib/python3.6/dist-packages (from astroid<=2.5,>=2.4.0->pylint) (1.4.3)\n",
            "Requirement already satisfied: typed-ast<1.5,>=1.4.0; implementation_name == \"cpython\" and python_version < \"3.8\" in /usr/local/lib/python3.6/dist-packages (from astroid<=2.5,>=2.4.0->pylint) (1.4.1)\n",
            "Requirement already satisfied: six~=1.12 in /usr/local/lib/python3.6/dist-packages (from astroid<=2.5,>=2.4.0->pylint) (1.15.0)\n"
          ],
          "name": "stdout"
        }
      ]
    },
    {
      "cell_type": "code",
      "metadata": {
        "id": "UnTsGQ1VEZEU",
        "colab_type": "code",
        "colab": {
          "base_uri": "https://localhost:8080/",
          "height": 34
        },
        "outputId": "2edb9537-ee8a-43a7-a8fb-18723252f243"
      },
      "source": [
        "%%writefile some_code.py\n",
        "'''\n",
        "  Taking input\n",
        "'''\n",
        "N = 5\n",
        "checkprime(N)\n",
        "def checkprime(num):\n",
        "    '''\n",
        "      prime or not function\n",
        "    '''\n",
        "    if num > 1:\n",
        "        count_sum = 0\n",
        "        for i in range(2, num):\n",
        "            if num % i == 0:\n",
        "                count_sum = count_sum+1\n",
        "        if count_sum == 1:\n",
        "            print(num, \"is prime\")\n",
        "            "
      ],
      "execution_count": 31,
      "outputs": [
        {
          "output_type": "stream",
          "text": [
            "Overwriting some_code.py\n"
          ],
          "name": "stdout"
        }
      ]
    },
    {
      "cell_type": "code",
      "metadata": {
        "id": "rQld38OaFNGR",
        "colab_type": "code",
        "colab": {
          "base_uri": "https://localhost:8080/",
          "height": 85
        },
        "outputId": "85b51ff7-c666-421e-fa2f-5c1a734c5467"
      },
      "source": [
        "! pylint \"some_code.py\""
      ],
      "execution_count": 32,
      "outputs": [
        {
          "output_type": "stream",
          "text": [
            "\n",
            "-------------------------------------------------------------------\n",
            "Your code has been rated at 10.00/10 (previous run: 9.00/10, +1.00)\n",
            "\n"
          ],
          "name": "stdout"
        }
      ]
    }
  ]
}